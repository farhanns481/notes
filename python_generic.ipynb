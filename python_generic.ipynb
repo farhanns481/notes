{
  "nbformat": 4,
  "nbformat_minor": 0,
  "metadata": {
    "colab": {
      "provenance": [],
      "authorship_tag": "ABX9TyNrxqf1i84IubtM9rIeVa4E",
      "include_colab_link": true
    },
    "kernelspec": {
      "name": "python3",
      "display_name": "Python 3"
    },
    "language_info": {
      "name": "python"
    }
  },
  "cells": [
    {
      "cell_type": "markdown",
      "metadata": {
        "id": "view-in-github",
        "colab_type": "text"
      },
      "source": [
        "<a href=\"https://colab.research.google.com/github/farhanns481/notes/blob/main/python_generic.ipynb\" target=\"_parent\"><img src=\"https://colab.research.google.com/assets/colab-badge.svg\" alt=\"Open In Colab\"/></a>"
      ]
    },
    {
      "cell_type": "code",
      "execution_count": null,
      "metadata": {
        "colab": {
          "base_uri": "https://localhost:8080/"
        },
        "id": "MLc2sjmzzLVF",
        "outputId": "855ecaa6-083b-4817-d815-e89bcb5df693"
      },
      "outputs": [
        {
          "output_type": "stream",
          "name": "stdout",
          "text": [
            "a contains 10 b contains 20.25698\n",
            "a contains 10 b contains 20.25698\n",
            "a contains 10 b contains 20.25698\n",
            "b contains 20.26\n"
          ]
        }
      ],
      "source": [
        "#PLACE HOLDER PASSING\n",
        "\n",
        "a=10\n",
        "b=20.25698\n",
        "print(f\"a contains {a} b contains {b}\")\n",
        "print(\"a contains {} b contains {}\".format(a,b))\n",
        "print(\"a contains {1} b contains {0}\".format(b,a))\n",
        "print(f\"b contains {b:.2f}\")"
      ]
    },
    {
      "cell_type": "code",
      "source": [
        "# MULTIVARIABLE ASSIGNMENT\n",
        "\n",
        "name,age,location = \"Guest\",22,\"Cochin\"\n",
        "print(name)\n",
        "print(age)\n",
        "print(location)\n"
      ],
      "metadata": {
        "colab": {
          "base_uri": "https://localhost:8080/"
        },
        "id": "_Dx-bnLR28xg",
        "outputId": "f8ab634a-3a1a-49eb-d56b-547704350e4d"
      },
      "execution_count": null,
      "outputs": [
        {
          "output_type": "stream",
          "name": "stdout",
          "text": [
            "Guest\n",
            "22\n",
            "Cochin\n"
          ]
        }
      ]
    },
    {
      "cell_type": "code",
      "source": [
        "a = 10\n",
        "b = 20\n",
        "print(a,b)\n",
        "print(a, b, sep=\"_\")\n",
        "print(\"a contains\",a,\"and\",\"b contains\",b)"
      ],
      "metadata": {
        "colab": {
          "base_uri": "https://localhost:8080/"
        },
        "id": "8shdGE6Z5KHT",
        "outputId": "4e341059-78b6-4f26-a546-8b59c00efffe"
      },
      "execution_count": null,
      "outputs": [
        {
          "output_type": "stream",
          "name": "stdout",
          "text": [
            "10 20\n",
            "10_20\n",
            "a contains 10 and b contains 20\n"
          ]
        }
      ]
    },
    {
      "cell_type": "code",
      "source": [
        "print(\"Hello\")\n",
        "print(\"Hi\", end=\"_\")\n",
        "print(\"Welcome\")"
      ],
      "metadata": {
        "colab": {
          "base_uri": "https://localhost:8080/"
        },
        "id": "_EIv2X_b5_Co",
        "outputId": "d5b74133-544d-4b02-cb46-3d28eb2f7e4f"
      },
      "execution_count": null,
      "outputs": [
        {
          "output_type": "stream",
          "name": "stdout",
          "text": [
            "Hello\n",
            "Hi_Welcome\n"
          ]
        }
      ]
    },
    {
      "cell_type": "code",
      "source": [
        "# TYPE CONVERSION AND CASTING\n",
        "\n",
        "  # Integer to String\n",
        "  a = 5\n",
        "  b = str(a)\n",
        "  print(b, type(b))\n",
        "\n",
        "  # String to Integer\n",
        "  a = \"5\"\n",
        "  b = int(a)\n",
        "  print(b, type(b))\n",
        "\n",
        "  # Integer to float\n",
        "  a = 5\n",
        "  b = float(a)\n",
        "  print(b, type(b))\n"
      ],
      "metadata": {
        "colab": {
          "base_uri": "https://localhost:8080/",
          "height": 106
        },
        "id": "aFg_WK7l7HKh",
        "outputId": "6b26b2df-cb8a-4519-e1de-22ca9b34fa8a"
      },
      "execution_count": null,
      "outputs": [
        {
          "output_type": "error",
          "ename": "IndentationError",
          "evalue": "unexpected indent (ipython-input-1294659184.py, line 4)",
          "traceback": [
            "\u001b[0;36m  File \u001b[0;32m\"/tmp/ipython-input-1294659184.py\"\u001b[0;36m, line \u001b[0;32m4\u001b[0m\n\u001b[0;31m    a = 5\u001b[0m\n\u001b[0m    ^\u001b[0m\n\u001b[0;31mIndentationError\u001b[0m\u001b[0;31m:\u001b[0m unexpected indent\n"
          ]
        }
      ]
    },
    {
      "cell_type": "code",
      "source": [
        "#KEYWORDS IN PYTHON\n",
        "\n",
        "import keyword\n",
        "print(keyword.kwlist)"
      ],
      "metadata": {
        "colab": {
          "base_uri": "https://localhost:8080/"
        },
        "id": "5gI471Ez_W62",
        "outputId": "a139c084-67e9-4860-eb8b-f7079fc3f51e"
      },
      "execution_count": null,
      "outputs": [
        {
          "output_type": "stream",
          "name": "stdout",
          "text": [
            "['False', 'None', 'True', 'and', 'as', 'assert', 'async', 'await', 'break', 'class', 'continue', 'def', 'del', 'elif', 'else', 'except', 'finally', 'for', 'from', 'global', 'if', 'import', 'in', 'is', 'lambda', 'nonlocal', 'not', 'or', 'pass', 'raise', 'return', 'try', 'while', 'with', 'yield']\n"
          ]
        }
      ]
    },
    {
      "cell_type": "code",
      "source": [
        "#STRING JOIN\n",
        "\n",
        "domain = [\"Data\",\"Science\"]\n",
        "\"_\".join(domain)"
      ],
      "metadata": {
        "colab": {
          "base_uri": "https://localhost:8080/",
          "height": 35
        },
        "id": "hj2lrAU_AEXr",
        "outputId": "7e984f07-a160-446b-b414-7b8efcb3e4d4"
      },
      "execution_count": null,
      "outputs": [
        {
          "output_type": "execute_result",
          "data": {
            "text/plain": [
              "'Data_Science'"
            ],
            "application/vnd.google.colaboratory.intrinsic+json": {
              "type": "string"
            }
          },
          "metadata": {},
          "execution_count": 11
        }
      ]
    },
    {
      "cell_type": "code",
      "source": [
        "# LIST OPERATIONS\n",
        "\n",
        "x = [1,2,3]\n",
        "x.append(4)\n",
        "print(x)\n",
        "x.extend([5,6])\n",
        "print(x)\n",
        "x.remove(2)\n",
        "print(x)\n",
        "x.insert(0,10)\n",
        "print(x)\n",
        "x.reverse()\n",
        "print(x)\n",
        "x.sort()\n",
        "print(x)\n",
        "e = x.pop(0)\n",
        "print(e,x)\n",
        "x.clear()\n",
        "print(x)"
      ],
      "metadata": {
        "colab": {
          "base_uri": "https://localhost:8080/"
        },
        "id": "goRRyDzUA27e",
        "outputId": "5d78ef80-35d1-4821-960a-177d1fd50c87"
      },
      "execution_count": null,
      "outputs": [
        {
          "output_type": "stream",
          "name": "stdout",
          "text": [
            "[1, 2, 3, 4]\n",
            "[1, 2, 3, 4, 5, 6]\n",
            "[1, 3, 4, 5, 6]\n",
            "[10, 1, 3, 4, 5, 6]\n",
            "[6, 5, 4, 3, 1, 10]\n",
            "[1, 3, 4, 5, 6, 10]\n",
            "1 [3, 4, 5, 6, 10]\n",
            "[]\n"
          ]
        }
      ]
    },
    {
      "cell_type": "code",
      "source": [],
      "metadata": {
        "id": "-xvLIMLrFcw6"
      },
      "execution_count": null,
      "outputs": []
    }
  ]
}