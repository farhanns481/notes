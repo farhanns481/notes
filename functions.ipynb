{
  "nbformat": 4,
  "nbformat_minor": 0,
  "metadata": {
    "colab": {
      "provenance": [],
      "authorship_tag": "ABX9TyMkTd1T3YaLmC614k99Yib/",
      "include_colab_link": true
    },
    "kernelspec": {
      "name": "python3",
      "display_name": "Python 3"
    },
    "language_info": {
      "name": "python"
    }
  },
  "cells": [
    {
      "cell_type": "markdown",
      "metadata": {
        "id": "view-in-github",
        "colab_type": "text"
      },
      "source": [
        "<a href=\"https://colab.research.google.com/github/farhanns481/notes/blob/main/functions.ipynb\" target=\"_parent\"><img src=\"https://colab.research.google.com/assets/colab-badge.svg\" alt=\"Open In Colab\"/></a>"
      ]
    },
    {
      "cell_type": "code",
      "execution_count": null,
      "metadata": {
        "colab": {
          "base_uri": "https://localhost:8080/"
        },
        "id": "F3_jwQJDsqbe",
        "outputId": "7ff12acb-1370-4567-e9be-21746c499c14"
      },
      "outputs": [
        {
          "output_type": "stream",
          "name": "stdout",
          "text": [
            "hello welcome to keraala\n"
          ]
        }
      ],
      "source": [
        "def greet():\n",
        "  print(\"hello welcome to keraala\")\n",
        "\n",
        "\n",
        "greet()"
      ]
    },
    {
      "cell_type": "code",
      "source": [
        "def greet(name):\n",
        "  print(f\"hello {name},welcome to program\")\n",
        "\n",
        "\n",
        "greet('riyan')\n",
        "greet('shahila')"
      ],
      "metadata": {
        "colab": {
          "base_uri": "https://localhost:8080/"
        },
        "id": "Tlpv5YsauybV",
        "outputId": "9649bd1d-e38b-4317-95a2-722c804443af"
      },
      "execution_count": null,
      "outputs": [
        {
          "output_type": "stream",
          "name": "stdout",
          "text": [
            "hello riyan,welcome to program\n",
            "hello shahila,welcome to program\n"
          ]
        }
      ]
    },
    {
      "cell_type": "code",
      "source": [
        "def greet(name,time):\n",
        "  print(f\"hello {name},welcome to program\")\n",
        "  print(f\"your session start at {time}\")\n",
        "\n",
        "\n",
        "greet('riyan','12pm')\n",
        "greet('shahila','12pm')"
      ],
      "metadata": {
        "colab": {
          "base_uri": "https://localhost:8080/"
        },
        "id": "qdKbm2gJxD2X",
        "outputId": "23220c30-e8de-4506-ba36-85bcb84a6153"
      },
      "execution_count": null,
      "outputs": [
        {
          "output_type": "stream",
          "name": "stdout",
          "text": [
            "hello riyan,welcome to program\n",
            "your session start at 12pm\n",
            "hello shahila,welcome to program\n",
            "your session start at 12pm\n"
          ]
        }
      ]
    },
    {
      "cell_type": "code",
      "source": [
        "def greet(name,time =\"5am\"):\n",
        "  print(f\"hello {name},welcome to program\")\n",
        "  print(f\"your session start at {time}\")\n",
        "\n",
        "\n",
        "greet('riyan','12pm')\n",
        "greet('shahila','12pm')\n",
        "greet('maheen')"
      ],
      "metadata": {
        "colab": {
          "base_uri": "https://localhost:8080/"
        },
        "id": "rnaZuK0QyHs7",
        "outputId": "d1f18bf3-4cdb-41ee-c908-c5a7224a926a"
      },
      "execution_count": null,
      "outputs": [
        {
          "output_type": "stream",
          "name": "stdout",
          "text": [
            "hello riyan,welcome to program\n",
            "your session start at 12pm\n",
            "hello shahila,welcome to program\n",
            "your session start at 12pm\n",
            "hello maheen,welcome to program\n",
            "your session start at 5am\n"
          ]
        }
      ]
    },
    {
      "cell_type": "code",
      "source": [
        "x = int(input(\"enter first no\"))\n",
        "y = int(input(\"enter second no\"))\n",
        "\n",
        "def mul(x,y):\n",
        "\n",
        "  z = x*y\n",
        "\n",
        "  print(z)\n",
        "mul(x,y)\n",
        "\n"
      ],
      "metadata": {
        "colab": {
          "base_uri": "https://localhost:8080/"
        },
        "id": "s_-F_dV_ygPc",
        "outputId": "f99dad53-bc5b-4eab-bf96-955d93c6f0e5"
      },
      "execution_count": null,
      "outputs": [
        {
          "output_type": "stream",
          "name": "stdout",
          "text": [
            "enter first no4\n",
            "enter second no3\n",
            "12\n"
          ]
        }
      ]
    },
    {
      "cell_type": "code",
      "source": [
        "tot = int(input(\"enter tot bill\"))\n",
        "\n",
        "def total(x):\n",
        "  y = x * 10/100\n",
        "  x = x + y\n",
        "  print(x)\n",
        "\n",
        "total(tot)"
      ],
      "metadata": {
        "colab": {
          "base_uri": "https://localhost:8080/"
        },
        "id": "w7iN-uxG18Bd",
        "outputId": "767e38e8-6697-4fea-bbac-7e3615047798"
      },
      "execution_count": null,
      "outputs": [
        {
          "output_type": "stream",
          "name": "stdout",
          "text": [
            "enter tot bill300\n",
            "330.0\n"
          ]
        }
      ]
    },
    {
      "cell_type": "code",
      "source": [
        "def  amount(price):\n",
        "  if price >= 1000:\n",
        "    total = price + (0.2 * price)\n",
        "  elif 500 <= price < 1000:\n",
        "    total = price + (0.15 * price)\n",
        "  else:\n",
        "    total = price + (0.1 * price)\n",
        "   print(f'total amount is {total}rs')\n",
        "\n",
        "amount(1000)\n",
        "\n"
      ],
      "metadata": {
        "colab": {
          "base_uri": "https://localhost:8080/",
          "height": 106
        },
        "id": "ksqp5bZ05G_p",
        "outputId": "73cd1b3f-b6c0-41fb-f57d-129fc0157915"
      },
      "execution_count": null,
      "outputs": [
        {
          "output_type": "error",
          "ename": "IndentationError",
          "evalue": "unindent does not match any outer indentation level (<tokenize>, line 8)",
          "traceback": [
            "\u001b[0;36m  File \u001b[0;32m\"<tokenize>\"\u001b[0;36m, line \u001b[0;32m8\u001b[0m\n\u001b[0;31m    print(f'total amount is {total}rs')\u001b[0m\n\u001b[0m    ^\u001b[0m\n\u001b[0;31mIndentationError\u001b[0m\u001b[0;31m:\u001b[0m unindent does not match any outer indentation level\n"
          ]
        }
      ]
    },
    {
      "cell_type": "code",
      "source": [
        "num_list = [12,4,5,7,8,13,10,21]\n",
        "\n",
        "def average_even(numberlist):\n",
        "  even_list=[]\n",
        "  for num in numberlist:\n",
        "    if num % 2 ==0:\n",
        "      even_list.append(num)\n",
        "  averageEven = sum(even_list)/len(even_list)\n",
        "  print(even_list)\n",
        "  print(averageEven)\n",
        "\n",
        "average_even(num_list)\n"
      ],
      "metadata": {
        "colab": {
          "base_uri": "https://localhost:8080/"
        },
        "id": "0Z7LUCpg8y5p",
        "outputId": "361c1b20-dcc2-42fc-ca75-2d629fae30f9"
      },
      "execution_count": null,
      "outputs": [
        {
          "output_type": "stream",
          "name": "stdout",
          "text": [
            "[12, 4, 8, 10]\n",
            "8.5\n"
          ]
        }
      ]
    },
    {
      "cell_type": "code",
      "source": [
        "num_list = [12,4,5,7,8,13,10,21]\n",
        "\n",
        "def average_even(numberlist):\n",
        "  even_list=[]\n",
        "  odd_list=[]\n",
        "  for num in numberlist:\n",
        "    if num % 2 ==0:\n",
        "      even_list.append(num)\n",
        "    else:\n",
        "      odd_list.append(num)\n",
        "  averageEven = sum(even_list)/len(even_list)\n",
        "  averageOdd = sum(odd_list)/len(odd_list)\n",
        "\n",
        "  print(even_list)\n",
        "  print(odd_list)\n",
        "  print(averageEven)\n",
        "  print(averageOdd)\n",
        "\n",
        "average_even(num_list)"
      ],
      "metadata": {
        "colab": {
          "base_uri": "https://localhost:8080/"
        },
        "id": "zGH7UXIz-r5F",
        "outputId": "e397874d-0c52-4187-af68-2e382803da56"
      },
      "execution_count": null,
      "outputs": [
        {
          "output_type": "stream",
          "name": "stdout",
          "text": [
            "[12, 4, 8, 10]\n",
            "[5, 7, 13, 21]\n",
            "8.5\n",
            "11.5\n"
          ]
        }
      ]
    },
    {
      "cell_type": "code",
      "source": [
        "def sum_numbers(*args):\n",
        "  print(type(args))\n",
        "  total=0\n",
        "  for i in args:\n",
        "    total += i\n",
        "  print(total)\n",
        "\n",
        "\n",
        "sum_numbers(7,8,9,4,3)"
      ],
      "metadata": {
        "colab": {
          "base_uri": "https://localhost:8080/"
        },
        "id": "7Ym-KWXk_8KJ",
        "outputId": "f2484ebb-0c7a-431c-aa91-69ee99185535"
      },
      "execution_count": null,
      "outputs": [
        {
          "output_type": "stream",
          "name": "stdout",
          "text": [
            "<class 'tuple'>\n",
            "31\n"
          ]
        }
      ]
    },
    {
      "cell_type": "code",
      "source": [
        "def print_info(**args):\n",
        " for item,val in args.items():\n",
        "  print(f\"{item} is {val}\")\n",
        "\n",
        "\n",
        "\n",
        "print_info(name=\"alan\",place=\"tvm\",score=8)\n",
        "print_info(name=\"madhu\",place=\"kollam\",rate=100)\n",
        "\n",
        "\n"
      ],
      "metadata": {
        "colab": {
          "base_uri": "https://localhost:8080/"
        },
        "id": "tK-ToYayA34K",
        "outputId": "1b0286c7-7e20-4fbb-eb11-e5fc0232ceae"
      },
      "execution_count": null,
      "outputs": [
        {
          "output_type": "stream",
          "name": "stdout",
          "text": [
            "name is alan\n",
            "place is tvm\n",
            "score is 8\n",
            "name is madhu\n",
            "place is kollam\n",
            "rate is 100\n"
          ]
        }
      ]
    },
    {
      "cell_type": "code",
      "source": [
        "square = lambda x : x*x\n",
        "square(5)"
      ],
      "metadata": {
        "colab": {
          "base_uri": "https://localhost:8080/"
        },
        "id": "NHiIcXE4MaqR",
        "outputId": "aeb9e498-68ad-4b41-adea-d272b4adabc6"
      },
      "execution_count": null,
      "outputs": [
        {
          "output_type": "execute_result",
          "data": {
            "text/plain": [
              "25"
            ]
          },
          "metadata": {},
          "execution_count": 68
        }
      ]
    },
    {
      "cell_type": "code",
      "source": [
        "add = lambda x,y : x + y\n",
        "add(3,4)"
      ],
      "metadata": {
        "colab": {
          "base_uri": "https://localhost:8080/"
        },
        "id": "YZaPcOqPNQjN",
        "outputId": "4f804184-cf50-4b5d-febd-7efece379d2d"
      },
      "execution_count": null,
      "outputs": [
        {
          "output_type": "execute_result",
          "data": {
            "text/plain": [
              "7"
            ]
          },
          "metadata": {},
          "execution_count": 67
        }
      ]
    },
    {
      "cell_type": "code",
      "source": [
        "def totalmark(marks):\n",
        "  return (sum(marks))\n",
        "\n",
        "finalscore = totalmark([10,20,30,40,50])\n",
        "if finalscore >= 90:\n",
        "  print(\"grade A\")\n",
        "elif finalscore >= 80:\n",
        "  print(\"grade B\")\n",
        "elif finalscore >= 70:\n",
        "  print(\"grade C\")\n",
        "elif finalscore >= 60:\n",
        "  print(\"grade D\")\n"
      ],
      "metadata": {
        "colab": {
          "base_uri": "https://localhost:8080/"
        },
        "id": "E18_xx1rNaB3",
        "outputId": "af9d9325-57e9-4ef2-b71c-2a86335bfb83"
      },
      "execution_count": null,
      "outputs": [
        {
          "output_type": "stream",
          "name": "stdout",
          "text": [
            "grade A\n"
          ]
        }
      ]
    },
    {
      "cell_type": "markdown",
      "source": [
        "OOPS - CLASS/OBJECT or INSTANCE/INHERITANCE/POLYMORPHISM/ENCAPSULATION/ABSTRACTION\n"
      ],
      "metadata": {
        "id": "Whj0H0fVQtA0"
      }
    },
    {
      "cell_type": "code",
      "source": [
        "class animal:\n",
        "\n",
        "  animal_type = \"dog\"\n",
        "  num_legs = 4\n",
        "  mammal = \"yes\"\n",
        "\n",
        "  def sound(self):\n",
        "    print(\"animal barks\")\n",
        "\n",
        "obj1 = animal()\n",
        "obj1.sound()"
      ],
      "metadata": {
        "colab": {
          "base_uri": "https://localhost:8080/"
        },
        "id": "bMixVqZ9SBMo",
        "outputId": "1758f8b8-6eb7-4bf6-8231-3e0b65dd2b59"
      },
      "execution_count": null,
      "outputs": [
        {
          "output_type": "stream",
          "name": "stdout",
          "text": [
            "animal barks\n"
          ]
        }
      ]
    },
    {
      "cell_type": "code",
      "source": [
        "class person:\n",
        "  place = \"tvm\"\n",
        "\n",
        "  def __init__(self,name,age):\n",
        "    self.name= name\n",
        "    self.age = age\n",
        "\n",
        "  def greet(self):\n",
        "    return f\"hi myself {self.name} and my age is {self.age} and i am from {self.place}\"\n",
        "\n",
        "obj1 =person(\"madhu\",22)\n",
        "obj1.greet()\n",
        "\n",
        "#obj2 = person(\"riyan\",23)\n",
        "#obj2.greet()"
      ],
      "metadata": {
        "colab": {
          "base_uri": "https://localhost:8080/",
          "height": 35
        },
        "id": "3fzFv9uIUd3a",
        "outputId": "d0ffa631-bcb8-4acc-c65a-d25e04e58ffc"
      },
      "execution_count": null,
      "outputs": [
        {
          "output_type": "execute_result",
          "data": {
            "text/plain": [
              "'hi myself madhu and my age is 22 and i am from tvm'"
            ],
            "application/vnd.google.colaboratory.intrinsic+json": {
              "type": "string"
            }
          },
          "metadata": {},
          "execution_count": 79
        }
      ]
    },
    {
      "cell_type": "code",
      "source": [
        "class employee:\n",
        "  def __init__(self,name,emp_id,salary):\n",
        "    self.name  = name\n",
        "    self.emp_id = emp_id\n",
        "    self.salary = salary\n",
        "\n",
        "  def display_info(self):\n",
        "    print(f\"name: {self.name}\")\n",
        "    print(f\"employee id: {self.emp_id}\")\n",
        "    print(f\"salary: {self.salary}\")\n",
        "\n",
        "class manager (employee):\n",
        "  def __init__(self,name,emp_id,salary,dept,teamsize):\n",
        "    super() .__init__(name,emp_id,salary)\n",
        "    self.dept = dept\n",
        "    self.teamsize = teamsize\n",
        "\n",
        "  def display_manager_info(self):\n",
        "    self.display_info()\n",
        "    print(f\"department: {self.dept}\")\n",
        "    print(f\"team size: {self.teamsize}\")\n",
        "\n",
        "emp1 = employee(\"john\",\"12345\",50000)\n",
        "emp1.display_info()\n",
        "\n",
        "manager1 = manager(\"jane\",\"65789\",80000,\"10\",5)\n",
        "manager1.display_manager_info()"
      ],
      "metadata": {
        "colab": {
          "base_uri": "https://localhost:8080/"
        },
        "id": "F6bzR80EZ7Hu",
        "outputId": "80ab3668-6333-42c4-8a4a-19089b7a983d"
      },
      "execution_count": null,
      "outputs": [
        {
          "output_type": "stream",
          "name": "stdout",
          "text": [
            "name: john\n",
            "employee id: 12345\n",
            "salary: 50000\n",
            "name: jane\n",
            "employee id: 65789\n",
            "salary: 80000\n",
            "department: 10\n",
            "team size: 5\n"
          ]
        }
      ]
    }
  ]
}