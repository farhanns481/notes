{
  "nbformat": 4,
  "nbformat_minor": 0,
  "metadata": {
    "colab": {
      "provenance": [],
      "authorship_tag": "ABX9TyPBtVz3Ty6ioIF0rEetVbSd",
      "include_colab_link": true
    },
    "kernelspec": {
      "name": "python3",
      "display_name": "Python 3"
    },
    "language_info": {
      "name": "python"
    }
  },
  "cells": [
    {
      "cell_type": "markdown",
      "metadata": {
        "id": "view-in-github",
        "colab_type": "text"
      },
      "source": [
        "<a href=\"https://colab.research.google.com/github/farhanns481/notes/blob/main/datatypes.ipynb\" target=\"_parent\"><img src=\"https://colab.research.google.com/assets/colab-badge.svg\" alt=\"Open In Colab\"/></a>"
      ]
    },
    {
      "cell_type": "code",
      "execution_count": null,
      "metadata": {
        "colab": {
          "base_uri": "https://localhost:8080/"
        },
        "id": "ZQVUUM7mLcAy",
        "outputId": "2183a582-062c-4b4b-dd54-c7ee669b820c"
      },
      "outputs": [
        {
          "output_type": "stream",
          "name": "stdout",
          "text": [
            "30\n"
          ]
        }
      ],
      "source": [
        "age = 30\n",
        "print(age)"
      ]
    },
    {
      "cell_type": "code",
      "source": [
        "type(30)"
      ],
      "metadata": {
        "colab": {
          "base_uri": "https://localhost:8080/"
        },
        "id": "rkAHQCRYMTxl",
        "outputId": "6c859bb4-da7e-4cfd-c829-ef43b3718756"
      },
      "execution_count": null,
      "outputs": [
        {
          "output_type": "execute_result",
          "data": {
            "text/plain": [
              "int"
            ]
          },
          "metadata": {},
          "execution_count": 1
        }
      ]
    },
    {
      "cell_type": "markdown",
      "source": [
        "**text**\n",
        "\n",
        "*   string\n",
        "\n"
      ],
      "metadata": {
        "id": "WTGYFByRP3be"
      }
    },
    {
      "cell_type": "code",
      "source": [
        "year = \"2002\"\n",
        "print(year)"
      ],
      "metadata": {
        "colab": {
          "base_uri": "https://localhost:8080/"
        },
        "id": "OhkhdRywPVrX",
        "outputId": "591edd71-46bc-416a-cf51-d04ea8af3158"
      },
      "execution_count": null,
      "outputs": [
        {
          "output_type": "stream",
          "name": "stdout",
          "text": [
            "2002\n"
          ]
        }
      ]
    },
    {
      "cell_type": "markdown",
      "source": [
        "**sequence**\n",
        "\n",
        "\n",
        "*   list\n",
        "*   tuple\n",
        "*   range(start,stop,step)\n",
        "\n",
        "\n",
        "\n"
      ],
      "metadata": {
        "id": "KQBbr9TDP-QW"
      }
    },
    {
      "cell_type": "code",
      "source": [
        "days = [9,5,5]"
      ],
      "metadata": {
        "id": "ddmuWyz1P9MO"
      },
      "execution_count": null,
      "outputs": []
    },
    {
      "cell_type": "code",
      "source": [
        "type(days)"
      ],
      "metadata": {
        "colab": {
          "base_uri": "https://localhost:8080/"
        },
        "id": "C0BRPwwBQOnv",
        "outputId": "f9ec3009-79dd-44d4-88ca-b76e5d246864"
      },
      "execution_count": null,
      "outputs": [
        {
          "output_type": "execute_result",
          "data": {
            "text/plain": [
              "list"
            ]
          },
          "metadata": {},
          "execution_count": 8
        }
      ]
    },
    {
      "cell_type": "code",
      "source": [
        "marks = ('student 1',95,'student 2',87)"
      ],
      "metadata": {
        "id": "4dccKWJ3QOkg"
      },
      "execution_count": null,
      "outputs": []
    },
    {
      "cell_type": "code",
      "source": [],
      "metadata": {
        "id": "eu2H-tfzQ4j0"
      },
      "execution_count": null,
      "outputs": []
    },
    {
      "cell_type": "code",
      "source": [
        "type(marks)"
      ],
      "metadata": {
        "colab": {
          "base_uri": "https://localhost:8080/"
        },
        "id": "XSd64WlZQ4dT",
        "outputId": "f8bf2991-e3a5-42b8-ebe9-d4b9f6a37289"
      },
      "execution_count": null,
      "outputs": [
        {
          "output_type": "execute_result",
          "data": {
            "text/plain": [
              "tuple"
            ]
          },
          "metadata": {},
          "execution_count": 13
        }
      ]
    },
    {
      "cell_type": "markdown",
      "source": [
        "range"
      ],
      "metadata": {
        "id": "7RUuWIyjRoeC"
      }
    },
    {
      "cell_type": "code",
      "source": [
        "list(range(5))"
      ],
      "metadata": {
        "colab": {
          "base_uri": "https://localhost:8080/"
        },
        "id": "4LLJBrSYRvfj",
        "outputId": "f3bd8939-311d-44b8-af67-6013fd6fb654"
      },
      "execution_count": null,
      "outputs": [
        {
          "output_type": "execute_result",
          "data": {
            "text/plain": [
              "[0, 1, 2, 3, 4]"
            ]
          },
          "metadata": {},
          "execution_count": 14
        }
      ]
    },
    {
      "cell_type": "code",
      "source": [
        "list(range(1,10,2))"
      ],
      "metadata": {
        "colab": {
          "base_uri": "https://localhost:8080/"
        },
        "id": "zlxy3ST4SQU0",
        "outputId": "6cc3713b-de5a-4d19-ed26-57e5ebe22833"
      },
      "execution_count": null,
      "outputs": [
        {
          "output_type": "execute_result",
          "data": {
            "text/plain": [
              "[1, 3, 5, 7, 9]"
            ]
          },
          "metadata": {},
          "execution_count": 15
        }
      ]
    },
    {
      "cell_type": "code",
      "source": [
        "list(range(2,10,2))"
      ],
      "metadata": {
        "colab": {
          "base_uri": "https://localhost:8080/"
        },
        "id": "FKe7b9EgSl94",
        "outputId": "61360efd-afe8-4e37-8c33-dc1b87a624dd"
      },
      "execution_count": null,
      "outputs": [
        {
          "output_type": "execute_result",
          "data": {
            "text/plain": [
              "[2, 4, 6, 8]"
            ]
          },
          "metadata": {},
          "execution_count": 17
        }
      ]
    },
    {
      "cell_type": "code",
      "source": [
        "list(range(8,-1,-2))"
      ],
      "metadata": {
        "colab": {
          "base_uri": "https://localhost:8080/"
        },
        "id": "gnkwQN4gTUC4",
        "outputId": "e528b2ef-1722-42f4-d0fe-d7575402191c"
      },
      "execution_count": null,
      "outputs": [
        {
          "output_type": "execute_result",
          "data": {
            "text/plain": [
              "[8, 6, 4, 2, 0]"
            ]
          },
          "metadata": {},
          "execution_count": 18
        }
      ]
    },
    {
      "cell_type": "markdown",
      "source": [
        "#mapping type\n",
        "\n",
        "*   dictionary\n",
        "  \n",
        "\n"
      ],
      "metadata": {
        "id": "wFpfmPxeTytw"
      }
    },
    {
      "cell_type": "code",
      "source": [
        "details = {'batch':7,'course':'DSA'}\n",
        "details['batch']"
      ],
      "metadata": {
        "colab": {
          "base_uri": "https://localhost:8080/"
        },
        "id": "HPRtq5GfT78r",
        "outputId": "45af718a-165b-4724-9809-58fae8008637"
      },
      "execution_count": null,
      "outputs": [
        {
          "output_type": "execute_result",
          "data": {
            "text/plain": [
              "7"
            ]
          },
          "metadata": {},
          "execution_count": 26
        }
      ]
    },
    {
      "cell_type": "code",
      "source": [
        "details=('course')"
      ],
      "metadata": {
        "id": "iAqRrVOEUWSq"
      },
      "execution_count": null,
      "outputs": []
    },
    {
      "cell_type": "code",
      "source": [
        "details.keys()"
      ],
      "metadata": {
        "colab": {
          "base_uri": "https://localhost:8080/"
        },
        "id": "YrmsLGAFU4oT",
        "outputId": "7c23571b-18cc-40b2-881a-47aa131e6201"
      },
      "execution_count": null,
      "outputs": [
        {
          "output_type": "execute_result",
          "data": {
            "text/plain": [
              "dict_keys(['batch', 'course'])"
            ]
          },
          "metadata": {},
          "execution_count": 28
        }
      ]
    },
    {
      "cell_type": "markdown",
      "source": [
        "#set  data type"
      ],
      "metadata": {
        "id": "NklB2DjzV0hL"
      }
    },
    {
      "cell_type": "code",
      "source": [
        "colors = {'red','green','blue','green'}\n",
        "print(colors)"
      ],
      "metadata": {
        "colab": {
          "base_uri": "https://localhost:8080/"
        },
        "id": "DtohruGOVqpO",
        "outputId": "eaf7e825-4e72-4ea9-be8b-ccde01e3e782"
      },
      "execution_count": null,
      "outputs": [
        {
          "output_type": "stream",
          "name": "stdout",
          "text": [
            "{'green', 'red', 'blue'}\n"
          ]
        }
      ]
    },
    {
      "cell_type": "markdown",
      "source": [
        "#boolean"
      ],
      "metadata": {
        "id": "m1aEDg0BWFVx"
      }
    },
    {
      "cell_type": "code",
      "source": [
        "engine_off = True\n",
        "fan_on = False\n",
        "type(engine_off)"
      ],
      "metadata": {
        "colab": {
          "base_uri": "https://localhost:8080/"
        },
        "id": "WVdGl071WIzr",
        "outputId": "a580dcc4-2524-4362-d45b-ce3874bb5703"
      },
      "execution_count": null,
      "outputs": [
        {
          "output_type": "execute_result",
          "data": {
            "text/plain": [
              "bool"
            ]
          },
          "metadata": {},
          "execution_count": 30
        }
      ]
    },
    {
      "cell_type": "markdown",
      "source": [
        "#none"
      ],
      "metadata": {
        "id": "oE3kSxLDWwXm"
      }
    },
    {
      "cell_type": "code",
      "source": [
        "value = None\n",
        "type(value)"
      ],
      "metadata": {
        "colab": {
          "base_uri": "https://localhost:8080/"
        },
        "id": "kx8UNvW6WydO",
        "outputId": "aed28551-9dbe-45b8-eabb-6b692cd7b067"
      },
      "execution_count": null,
      "outputs": [
        {
          "output_type": "execute_result",
          "data": {
            "text/plain": [
              "NoneType"
            ]
          },
          "metadata": {},
          "execution_count": 33
        }
      ]
    },
    {
      "cell_type": "code",
      "source": [
        "year_of_birth = 1990\n",
        "age = 2025-year_of_birth\n",
        "print(age)"
      ],
      "metadata": {
        "colab": {
          "base_uri": "https://localhost:8080/"
        },
        "id": "2FxsK8BMY0LL",
        "outputId": "6a4391a0-a928-4bc1-dee5-07e21499328e"
      },
      "execution_count": null,
      "outputs": [
        {
          "output_type": "stream",
          "name": "stdout",
          "text": [
            "35\n"
          ]
        }
      ]
    },
    {
      "cell_type": "markdown",
      "source": [
        "#computer age from year of birth\n",
        "#store your name, age and location as dictionary\n",
        "bio_data\n",
        "#create a to-do list using python lists\n",
        "#create list of odd numbers from 100 to 1 using range\n",
        "#print second last item from your to-do list\n",
        "#print  second item from your to-do list\n",
        "#print the number of characters in your name\n",
        "#write  code to do basic arithmetic(+-*/) on two numbers accepted from user\n",
        "#print age and year of birth accepting user input and print formatting\n",
        "#write code to print a greeting message 5 times\n",
        "#write code to print (true/false) a given string is palindrome\n",
        "#write code to print a digit in words (eg 3 --three)\n",
        "#write code to print a 4 digit otp in words(eg 2136 - two one three six)"
      ],
      "metadata": {
        "id": "J09AZkz9Zmsm"
      }
    },
    {
      "cell_type": "code",
      "source": [
        "bio_data = {'name':'xxx','age':18,'loc':'tvm'}\n",
        "print(bio_data)"
      ],
      "metadata": {
        "colab": {
          "base_uri": "https://localhost:8080/"
        },
        "id": "xImfLj7-ZhLz",
        "outputId": "44d318f5-7850-475e-9680-6745306bcb04"
      },
      "execution_count": null,
      "outputs": [
        {
          "output_type": "stream",
          "name": "stdout",
          "text": [
            "{'name': 'xxx', 'age': 18, 'loc': 'tvm'}\n"
          ]
        }
      ]
    },
    {
      "cell_type": "code",
      "source": [
        "to_do = ['brush','bath','sleep','food']\n",
        "print(to_do[2])\n",
        "print(to_do[1])"
      ],
      "metadata": {
        "colab": {
          "base_uri": "https://localhost:8080/"
        },
        "id": "i0g7tynUbR3N",
        "outputId": "7044f312-9042-4fbd-848b-64b7cc9bcdb4"
      },
      "execution_count": null,
      "outputs": [
        {
          "output_type": "stream",
          "name": "stdout",
          "text": [
            "sleep\n",
            "bath\n"
          ]
        }
      ]
    },
    {
      "cell_type": "code",
      "source": [
        "list(range(99,0,-2))"
      ],
      "metadata": {
        "colab": {
          "base_uri": "https://localhost:8080/"
        },
        "id": "HkteofAVcCEW",
        "outputId": "72e19623-d7c5-4a37-a503-ca23571e430c"
      },
      "execution_count": null,
      "outputs": [
        {
          "output_type": "execute_result",
          "data": {
            "text/plain": [
              "[99,\n",
              " 97,\n",
              " 95,\n",
              " 93,\n",
              " 91,\n",
              " 89,\n",
              " 87,\n",
              " 85,\n",
              " 83,\n",
              " 81,\n",
              " 79,\n",
              " 77,\n",
              " 75,\n",
              " 73,\n",
              " 71,\n",
              " 69,\n",
              " 67,\n",
              " 65,\n",
              " 63,\n",
              " 61,\n",
              " 59,\n",
              " 57,\n",
              " 55,\n",
              " 53,\n",
              " 51,\n",
              " 49,\n",
              " 47,\n",
              " 45,\n",
              " 43,\n",
              " 41,\n",
              " 39,\n",
              " 37,\n",
              " 35,\n",
              " 33,\n",
              " 31,\n",
              " 29,\n",
              " 27,\n",
              " 25,\n",
              " 23,\n",
              " 21,\n",
              " 19,\n",
              " 17,\n",
              " 15,\n",
              " 13,\n",
              " 11,\n",
              " 9,\n",
              " 7,\n",
              " 5,\n",
              " 3,\n",
              " 1]"
            ]
          },
          "metadata": {},
          "execution_count": 40
        }
      ]
    },
    {
      "cell_type": "code",
      "source": [
        "x = input ('name')\n",
        "len(x)"
      ],
      "metadata": {
        "colab": {
          "base_uri": "https://localhost:8080/"
        },
        "id": "MQMzOskneZ7H",
        "outputId": "7ca3e4bc-b8b2-4e66-f385-beaf157a7e3e"
      },
      "execution_count": null,
      "outputs": [
        {
          "name": "stdout",
          "output_type": "stream",
          "text": [
            "nameriyan\n"
          ]
        },
        {
          "output_type": "execute_result",
          "data": {
            "text/plain": [
              "5"
            ]
          },
          "metadata": {},
          "execution_count": 48
        }
      ]
    },
    {
      "cell_type": "code",
      "source": [
        "a = float(input('num 1'))\n",
        "b = float(input('num 2'))\n",
        "sum = a + b\n",
        "sub = a - b\n",
        "mul = a * b\n",
        "div = a / b\n",
        "print(sum)\n",
        "print(sub)\n",
        "print(mul)\n",
        "print(div)"
      ],
      "metadata": {
        "colab": {
          "base_uri": "https://localhost:8080/"
        },
        "id": "XLeZg0FdfLOX",
        "outputId": "4a2529e0-70d0-4c28-9603-cfc72843600c"
      },
      "execution_count": null,
      "outputs": [
        {
          "output_type": "stream",
          "name": "stdout",
          "text": [
            "num 16\n",
            "num 23\n",
            "9.0\n",
            "3.0\n",
            "18.0\n",
            "2.0\n"
          ]
        }
      ]
    },
    {
      "cell_type": "code",
      "source": [
        "x = int(input('dob'))\n",
        "age = (2025-x)"
      ],
      "metadata": {
        "id": "Yr1QmYBmppGf"
      },
      "execution_count": null,
      "outputs": []
    },
    {
      "cell_type": "code",
      "source": [
        "a = 10\n",
        "b = 3\n",
        "c=a**b\n",
        "print(c)"
      ],
      "metadata": {
        "colab": {
          "base_uri": "https://localhost:8080/"
        },
        "id": "cR2HZeB3i8kQ",
        "outputId": "fbb20485-8632-4ee6-f823-fd8a44a97cc4"
      },
      "execution_count": null,
      "outputs": [
        {
          "output_type": "stream",
          "name": "stdout",
          "text": [
            "1000\n"
          ]
        }
      ]
    },
    {
      "cell_type": "code",
      "source": [
        "num = 9\n",
        "den = 2\n",
        "result= num//den\n",
        "print(result)"
      ],
      "metadata": {
        "colab": {
          "base_uri": "https://localhost:8080/"
        },
        "id": "Qnk-3mrrpYT3",
        "outputId": "a20805b9-a847-4b5c-f12d-ae7aaf4ec426"
      },
      "execution_count": null,
      "outputs": [
        {
          "output_type": "stream",
          "name": "stdout",
          "text": [
            "4\n"
          ]
        }
      ]
    },
    {
      "cell_type": "code",
      "source": [
        "#AND\n",
        "print(True and True)\n",
        "print(True and False)"
      ],
      "metadata": {
        "colab": {
          "base_uri": "https://localhost:8080/"
        },
        "id": "XroECb49qlu9",
        "outputId": "519e9ce2-0875-434e-ab7f-0030eb1e5d2f"
      },
      "execution_count": null,
      "outputs": [
        {
          "output_type": "stream",
          "name": "stdout",
          "text": [
            "True\n",
            "False\n"
          ]
        }
      ]
    },
    {
      "cell_type": "code",
      "source": [
        "#or\n",
        "print(True or False)"
      ],
      "metadata": {
        "colab": {
          "base_uri": "https://localhost:8080/"
        },
        "id": "ruyy6TfPrKjW",
        "outputId": "199d4dba-0c2a-4808-f8d8-abee3fd24913"
      },
      "execution_count": null,
      "outputs": [
        {
          "output_type": "stream",
          "name": "stdout",
          "text": [
            "True\n"
          ]
        }
      ]
    },
    {
      "cell_type": "code",
      "source": [
        "#not\n",
        "print(not True)"
      ],
      "metadata": {
        "colab": {
          "base_uri": "https://localhost:8080/"
        },
        "id": "BHUOqSMdrU7D",
        "outputId": "957b03a9-d608-4310-af14-908c53a7188a"
      },
      "execution_count": null,
      "outputs": [
        {
          "output_type": "stream",
          "name": "stdout",
          "text": [
            "False\n"
          ]
        }
      ]
    },
    {
      "cell_type": "code",
      "source": [
        "#in\n",
        "print(1 in (1,2,3))"
      ],
      "metadata": {
        "colab": {
          "base_uri": "https://localhost:8080/"
        },
        "id": "CavjrVb8rfaV",
        "outputId": "0b2abac8-f50e-48f8-d938-e530e7806c9a"
      },
      "execution_count": null,
      "outputs": [
        {
          "output_type": "stream",
          "name": "stdout",
          "text": [
            "True\n"
          ]
        }
      ]
    },
    {
      "cell_type": "code",
      "source": [
        "#not in\n",
        "print(1 not in (1,2,3,4))"
      ],
      "metadata": {
        "colab": {
          "base_uri": "https://localhost:8080/"
        },
        "id": "aIay5jLuro2J",
        "outputId": "6cf1a0af-3ba1-471e-c32f-34c4a7164fdf"
      },
      "execution_count": null,
      "outputs": [
        {
          "output_type": "stream",
          "name": "stdout",
          "text": [
            "False\n"
          ]
        }
      ]
    },
    {
      "cell_type": "code",
      "source": [
        "'x' in 'malayalam'"
      ],
      "metadata": {
        "colab": {
          "base_uri": "https://localhost:8080/"
        },
        "id": "t-1IgHTqrylE",
        "outputId": "923aeedb-8f0b-4fe2-fec3-d1fa7b0e690e"
      },
      "execution_count": null,
      "outputs": [
        {
          "output_type": "execute_result",
          "data": {
            "text/plain": [
              "False"
            ]
          },
          "metadata": {},
          "execution_count": 63
        }
      ]
    },
    {
      "cell_type": "code",
      "source": [
        "#is\n",
        "a=10\n",
        "b=10\n",
        "print(a is b)\n",
        "\n",
        "a=12\n",
        "b=10\n",
        "print(a is b)"
      ],
      "metadata": {
        "colab": {
          "base_uri": "https://localhost:8080/"
        },
        "id": "xAAT0lPksKrt",
        "outputId": "e900f4fa-41a3-4eaf-e565-223a47ab986c"
      },
      "execution_count": null,
      "outputs": [
        {
          "output_type": "stream",
          "name": "stdout",
          "text": [
            "True\n",
            "False\n"
          ]
        }
      ]
    },
    {
      "cell_type": "code",
      "source": [
        "x = input('')\n",
        "y = int(input())\n",
        "print(x*y)"
      ],
      "metadata": {
        "colab": {
          "base_uri": "https://localhost:8080/"
        },
        "id": "MLzdn0qWsgQV",
        "outputId": "d3b63506-e994-414d-8192-a49bb48cfb11"
      },
      "execution_count": null,
      "outputs": [
        {
          "output_type": "stream",
          "name": "stdout",
          "text": [
            "hello\n",
            "5\n",
            "hellohellohellohellohello\n"
          ]
        }
      ]
    },
    {
      "cell_type": "code",
      "source": [
        "x = input('enter is string ')\n",
        "y = x[::-1]\n",
        "x==y"
      ],
      "metadata": {
        "colab": {
          "base_uri": "https://localhost:8080/"
        },
        "id": "DLMrM2Lluk4b",
        "outputId": "0c08c46a-105b-47ae-d047-1f4160784919"
      },
      "execution_count": null,
      "outputs": [
        {
          "name": "stdout",
          "output_type": "stream",
          "text": [
            "enter is string malayalam\n"
          ]
        },
        {
          "output_type": "execute_result",
          "data": {
            "text/plain": [
              "True"
            ]
          },
          "metadata": {},
          "execution_count": 67
        }
      ]
    },
    {
      "cell_type": "code",
      "source": [
        "digit_words = {1:\"one\",2:\"two\"}\n",
        "digit = int(input(\"enter a digit: \"))\n",
        "print(digit_words[digit])"
      ],
      "metadata": {
        "colab": {
          "base_uri": "https://localhost:8080/"
        },
        "id": "ggL9aLYny2Q1",
        "outputId": "bf5c3e91-4b4b-4bc6-fbb2-22f7fd4c31b9"
      },
      "execution_count": null,
      "outputs": [
        {
          "output_type": "stream",
          "name": "stdout",
          "text": [
            "enter a digit: 1\n",
            "one\n"
          ]
        }
      ]
    },
    {
      "cell_type": "code",
      "source": [
        "digits = [\"zero\",\"one\",\"two\",\"three\",\"four\",\"five\",\"six\",\"seven\",\"eight\",\"nine\"]\n",
        "otp = input(\"enter otp : \")\n",
        "a = int(otp [0])\n",
        "b = int(otp[1])\n",
        "c = int(otp[2])\n",
        "d = int(otp[3])\n",
        "print(digits[a],digits[b],digits[c],digits[d])"
      ],
      "metadata": {
        "colab": {
          "base_uri": "https://localhost:8080/"
        },
        "id": "8l1SPDsM1iz6",
        "outputId": "fb6eba6f-8c91-4dfe-802e-f2cb951535e1"
      },
      "execution_count": null,
      "outputs": [
        {
          "output_type": "stream",
          "name": "stdout",
          "text": [
            "enter otp : 2136\n",
            "two one three six\n"
          ]
        }
      ]
    },
    {
      "cell_type": "code",
      "source": [
        "digits = [\"zero\",\"one\",\"two\",\"three\",\"four\",\"five\",\"six\",\"seven\",\"eight\",\"nine\"]\n",
        "otp = input(\"enter otp : \")\n",
        "a = int(otp [0])\n",
        "b = int(otp[1])\n",
        "c = int(otp[2])\n",
        "d = int(otp[3])\n",
        "print(digits[a],digits[b],digits[c],digits[d])"
      ],
      "metadata": {
        "id": "MXng-Ta21Jsw"
      },
      "execution_count": null,
      "outputs": []
    }
  ]
}