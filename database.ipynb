{
  "nbformat": 4,
  "nbformat_minor": 0,
  "metadata": {
    "colab": {
      "provenance": [],
      "authorship_tag": "ABX9TyOkOrDefxa87jelSbaSCnaG",
      "include_colab_link": true
    },
    "kernelspec": {
      "name": "python3",
      "display_name": "Python 3"
    },
    "language_info": {
      "name": "python"
    }
  },
  "cells": [
    {
      "cell_type": "markdown",
      "metadata": {
        "id": "view-in-github",
        "colab_type": "text"
      },
      "source": [
        "<a href=\"https://colab.research.google.com/github/farhanns481/notes/blob/main/database.ipynb\" target=\"_parent\"><img src=\"https://colab.research.google.com/assets/colab-badge.svg\" alt=\"Open In Colab\"/></a>"
      ]
    },
    {
      "cell_type": "code",
      "execution_count": null,
      "metadata": {
        "id": "03HYOYiq0W-P"
      },
      "outputs": [],
      "source": [
        "import sqlite3\n",
        "\n",
        "conn= sqlite3.connect(\"students.db\")\n",
        "cursor = conn.cursor()\n"
      ]
    },
    {
      "cell_type": "code",
      "source": [
        "from typing import Text\n",
        "\n",
        "cursor.execute(\"\"\"CREATE TABLE IF NOT EXISTS students(\n",
        "    id INTEGER PRIMARY KEY AUTOINCREMENT,\n",
        "    name TEXT,\n",
        "    age INTEGER,\n",
        "    gender TEXT,\n",
        "    grade TEXT\n",
        "    )\n",
        "\"\"\")"
      ],
      "metadata": {
        "colab": {
          "base_uri": "https://localhost:8080/"
        },
        "id": "SBMjTpzX8YIL",
        "outputId": "58c41313-50d3-490f-c07f-575834df5aa9"
      },
      "execution_count": null,
      "outputs": [
        {
          "output_type": "execute_result",
          "data": {
            "text/plain": [
              "<sqlite3.Cursor at 0x7f3995444fc0>"
            ]
          },
          "metadata": {},
          "execution_count": 90
        }
      ]
    },
    {
      "cell_type": "code",
      "source": [
        "cursor.execute(\"insert into students values  (1,'AAA',18,'F','A+')\")"
      ],
      "metadata": {
        "colab": {
          "base_uri": "https://localhost:8080/"
        },
        "id": "FjCkmIRY9_K3",
        "outputId": "838abc76-66a6-491c-98a7-d7e8d1fa31d3"
      },
      "execution_count": null,
      "outputs": [
        {
          "output_type": "execute_result",
          "data": {
            "text/plain": [
              "<sqlite3.Cursor at 0x7f3995444fc0>"
            ]
          },
          "metadata": {},
          "execution_count": 91
        }
      ]
    },
    {
      "cell_type": "code",
      "source": [
        "cursor.execute(\"insert into students values  (2,'BBB',20,'M','B+')\")"
      ],
      "metadata": {
        "colab": {
          "base_uri": "https://localhost:8080/"
        },
        "id": "ZXx77HN29TGc",
        "outputId": "de3a99a0-bad4-410c-8136-515fca377062"
      },
      "execution_count": null,
      "outputs": [
        {
          "output_type": "execute_result",
          "data": {
            "text/plain": [
              "<sqlite3.Cursor at 0x7f3995444fc0>"
            ]
          },
          "metadata": {},
          "execution_count": 92
        }
      ]
    },
    {
      "cell_type": "code",
      "source": [
        "cursor.execute(\"insert into students values  (3,'CCC',20,'F','C+')\")"
      ],
      "metadata": {
        "colab": {
          "base_uri": "https://localhost:8080/"
        },
        "id": "qEeAFTVd-6E7",
        "outputId": "4e7fb112-be40-41ff-a0e3-f0e0e1a10917"
      },
      "execution_count": null,
      "outputs": [
        {
          "output_type": "execute_result",
          "data": {
            "text/plain": [
              "<sqlite3.Cursor at 0x7f3995444fc0>"
            ]
          },
          "metadata": {},
          "execution_count": 93
        }
      ]
    },
    {
      "cell_type": "code",
      "source": [
        "cursor.execute(\"insert into students values  (4,'DDD',21,'M','A+')\")"
      ],
      "metadata": {
        "colab": {
          "base_uri": "https://localhost:8080/"
        },
        "id": "HYCSk0vw_Azh",
        "outputId": "6adcc18e-9d65-4aac-8ebf-705e85ee25b8"
      },
      "execution_count": null,
      "outputs": [
        {
          "output_type": "execute_result",
          "data": {
            "text/plain": [
              "<sqlite3.Cursor at 0x7f3995444fc0>"
            ]
          },
          "metadata": {},
          "execution_count": 94
        }
      ]
    },
    {
      "cell_type": "code",
      "source": [
        "cursor.execute(\"insert into students values  (5,'EEE',22,'M','D+')\")"
      ],
      "metadata": {
        "colab": {
          "base_uri": "https://localhost:8080/"
        },
        "id": "o6MIrz6u_H-a",
        "outputId": "e8e15ea5-b3ff-4f7a-a616-1ca6db2c32b3"
      },
      "execution_count": null,
      "outputs": [
        {
          "output_type": "execute_result",
          "data": {
            "text/plain": [
              "<sqlite3.Cursor at 0x7f3995444fc0>"
            ]
          },
          "metadata": {},
          "execution_count": 95
        }
      ]
    },
    {
      "cell_type": "code",
      "source": [
        "conn.commit()"
      ],
      "metadata": {
        "id": "GvqX0eziGs0-"
      },
      "execution_count": null,
      "outputs": []
    },
    {
      "cell_type": "code",
      "source": [
        "cursor.execute(\"SELECT * FROM students\")"
      ],
      "metadata": {
        "colab": {
          "base_uri": "https://localhost:8080/"
        },
        "id": "5QSA8qWO_TmN",
        "outputId": "39710e0c-5949-4f3f-c1a6-2941e0628f14"
      },
      "execution_count": null,
      "outputs": [
        {
          "output_type": "execute_result",
          "data": {
            "text/plain": [
              "<sqlite3.Cursor at 0x7f3995444fc0>"
            ]
          },
          "metadata": {},
          "execution_count": 97
        }
      ]
    },
    {
      "cell_type": "code",
      "source": [],
      "metadata": {
        "id": "LG51IOn6GZGZ"
      },
      "execution_count": null,
      "outputs": []
    },
    {
      "cell_type": "code",
      "source": [
        "rows = (cursor.fetchall())"
      ],
      "metadata": {
        "id": "xRj78VMPBWXI"
      },
      "execution_count": null,
      "outputs": []
    },
    {
      "cell_type": "code",
      "source": [
        "for row in rows:\n",
        "  print(\"ID:\",row[0],\"name:\",row[1],\"age:\",row[2],\"gender:\",row[3],\"grade:\",row[4])"
      ],
      "metadata": {
        "id": "LS_sHuJVC5E6",
        "colab": {
          "base_uri": "https://localhost:8080/"
        },
        "outputId": "0018a33a-9854-412d-d26a-b77133e23f75"
      },
      "execution_count": null,
      "outputs": [
        {
          "output_type": "stream",
          "name": "stdout",
          "text": [
            "ID: 1 name: AAA age: 18 gender: F grade: A+\n",
            "ID: 2 name: BBB age: 20 gender: M grade: B+\n",
            "ID: 3 name: CCC age: 20 gender: F grade: C+\n",
            "ID: 4 name: DDD age: 21 gender: M grade: A+\n",
            "ID: 5 name: EEE age: 22 gender: M grade: D+\n"
          ]
        }
      ]
    },
    {
      "cell_type": "code",
      "source": [
        "cursor.execute(\"select * from students where grade = 'B+'\")\n",
        "rows = cursor.fetchall()\n",
        "for row in rows:\n",
        "  print(\"ID:\",row[0],\"name:\",row[1],\"age:\",row[2],\"gender:\",row[3],\"grade:\",row[4])"
      ],
      "metadata": {
        "colab": {
          "base_uri": "https://localhost:8080/"
        },
        "id": "5dBvO4NMF8L8",
        "outputId": "15f02ad1-5a67-4fdc-8ff4-0091cfa2c465"
      },
      "execution_count": null,
      "outputs": [
        {
          "output_type": "stream",
          "name": "stdout",
          "text": [
            "ID: 2 name: BBB age: 20 gender: M grade: B+\n"
          ]
        }
      ]
    },
    {
      "cell_type": "code",
      "source": [
        "cursor.execute(\"select * from students order by age desc\")\n",
        "rows = cursor.fetchall()\n",
        "for row in rows:\n",
        "  print(\"ID:\",row[0],\"name:\",row[1],\"age:\",row[2],\"gender:\",row[3],\"grade:\",row[4])"
      ],
      "metadata": {
        "colab": {
          "base_uri": "https://localhost:8080/"
        },
        "id": "VXdUzYmLJiol",
        "outputId": "ba675b20-f4dc-4f24-ff15-6b116b5a33a5"
      },
      "execution_count": null,
      "outputs": [
        {
          "output_type": "stream",
          "name": "stdout",
          "text": [
            "ID: 4 name: DDD age: 21 gender: M grade: A+\n",
            "ID: 2 name: BBB age: 20 gender: M grade: B+\n",
            "ID: 3 name: CCC age: 20 gender: F grade: C+\n",
            "ID: 1 name: AAA age: 18 gender: F grade: A+\n"
          ]
        }
      ]
    },
    {
      "cell_type": "code",
      "source": [
        "cursor.execute(\"select count(*) from students where grade = 'A+'\")\n",
        "rows = cursor.fetchall()\n",
        "for row in rows:\n",
        "  print(\"grade:\",row[0])"
      ],
      "metadata": {
        "colab": {
          "base_uri": "https://localhost:8080/"
        },
        "id": "qogj6fqSJ0OR",
        "outputId": "ff8320a8-a877-48b7-85e4-d19a6f5a9134"
      },
      "execution_count": null,
      "outputs": [
        {
          "output_type": "stream",
          "name": "stdout",
          "text": [
            "grade: 2\n"
          ]
        }
      ]
    },
    {
      "cell_type": "code",
      "source": [
        "cursor.execute(\"select avg(age) from students where age<17\")\n",
        "rows = cursor.fetchall()\n",
        "for row in rows:\n",
        "  print(\"age:\",row[0])"
      ],
      "metadata": {
        "colab": {
          "base_uri": "https://localhost:8080/"
        },
        "id": "MHyehRCBKKV6",
        "outputId": "721e558b-b895-4136-a6fc-57248952ee81"
      },
      "execution_count": null,
      "outputs": [
        {
          "output_type": "stream",
          "name": "stdout",
          "text": [
            "age: None\n"
          ]
        }
      ]
    },
    {
      "cell_type": "code",
      "source": [
        "cursor.execute(\"select * from students order by age desc limit 3\")\n",
        "rows = cursor.fetchall()\n",
        "for row in rows:\n",
        "  print(\"ID:\",row[0],\"name:\",row[1],\"age:\",row[2],\"gender:\",row[3],\"grade:\",row[4])"
      ],
      "metadata": {
        "colab": {
          "base_uri": "https://localhost:8080/"
        },
        "id": "56PCWqOKKrYP",
        "outputId": "c37e4df0-1787-41d5-a332-279e95f90bef"
      },
      "execution_count": null,
      "outputs": [
        {
          "output_type": "stream",
          "name": "stdout",
          "text": [
            "ID: 4 name: DDD age: 21 gender: M grade: A+\n",
            "ID: 2 name: BBB age: 20 gender: M grade: B+\n",
            "ID: 3 name: CCC age: 20 gender: F grade: C+\n"
          ]
        }
      ]
    },
    {
      "cell_type": "code",
      "source": [
        "cursor.execute(\"select age,count(*) from students group by age\")\n",
        "rows = cursor.fetchall()\n",
        "for row in rows:\n",
        "  print(\"age:\",row[0])"
      ],
      "metadata": {
        "colab": {
          "base_uri": "https://localhost:8080/"
        },
        "id": "mUoRwMa7LGvc",
        "outputId": "9789c3c2-6ac4-4ac1-c651-d2af06aa8fd5"
      },
      "execution_count": null,
      "outputs": [
        {
          "output_type": "stream",
          "name": "stdout",
          "text": [
            "age: 18\n",
            "age: 20\n",
            "age: 21\n"
          ]
        }
      ]
    },
    {
      "cell_type": "code",
      "source": [
        "cursor.execute(\"alter table students add column mark integer\")"
      ],
      "metadata": {
        "colab": {
          "base_uri": "https://localhost:8080/",
          "height": 141
        },
        "id": "WcbX_h3kL5xF",
        "outputId": "f9aabf6d-6080-4b77-c7f3-a39aa335e096"
      },
      "execution_count": null,
      "outputs": [
        {
          "output_type": "error",
          "ename": "OperationalError",
          "evalue": "duplicate column name: mark",
          "traceback": [
            "\u001b[0;31m---------------------------------------------------------------------------\u001b[0m",
            "\u001b[0;31mOperationalError\u001b[0m                          Traceback (most recent call last)",
            "\u001b[0;32m/tmp/ipython-input-3887324341.py\u001b[0m in \u001b[0;36m<cell line: 0>\u001b[0;34m()\u001b[0m\n\u001b[0;32m----> 1\u001b[0;31m \u001b[0mcursor\u001b[0m\u001b[0;34m.\u001b[0m\u001b[0mexecute\u001b[0m\u001b[0;34m(\u001b[0m\u001b[0;34m\"alter table students add column mark integer\"\u001b[0m\u001b[0;34m)\u001b[0m\u001b[0;34m\u001b[0m\u001b[0;34m\u001b[0m\u001b[0m\n\u001b[0m",
            "\u001b[0;31mOperationalError\u001b[0m: duplicate column name: mark"
          ]
        }
      ]
    },
    {
      "cell_type": "code",
      "source": [
        "cursor.execute(\"update students set mark = 70 where id = 1 \")\n",
        "cursor.execute(\"update students set mark = 80 where id = 2 \")\n",
        "cursor.execute(\"update students set mark = 45 where id = 3 \")\n",
        "cursor.execute(\"update students set mark = 90 where id = 4 \")\n",
        "cursor.execute(\"update students set mark = 95 where id = 5 \")"
      ],
      "metadata": {
        "colab": {
          "base_uri": "https://localhost:8080/"
        },
        "id": "YfRsvjqnMXF7",
        "outputId": "8369902c-c68b-4bc3-f3d1-d98355d528fc"
      },
      "execution_count": null,
      "outputs": [
        {
          "output_type": "execute_result",
          "data": {
            "text/plain": [
              "<sqlite3.Cursor at 0x7f3995444fc0>"
            ]
          },
          "metadata": {},
          "execution_count": 107
        }
      ]
    },
    {
      "cell_type": "code",
      "source": [
        "cursor.execute(\"select * from students\")\n",
        "rows = cursor.fetchall()\n",
        "for row in rows:\n",
        "  print(\"ID:\",row[0],\"name:\",row[1],\"age:\",row[2],\"gender:\",row[3],\"grade:\",row[4],\"mark:\",row[5])"
      ],
      "metadata": {
        "colab": {
          "base_uri": "https://localhost:8080/"
        },
        "id": "UHpwflqQOyTn",
        "outputId": "2b4db7bc-03e1-4161-a142-efc59c41e128"
      },
      "execution_count": null,
      "outputs": [
        {
          "output_type": "stream",
          "name": "stdout",
          "text": [
            "ID: 1 name: AAA age: 18 gender: F grade: A+ mark: 70\n",
            "ID: 2 name: BBB age: 20 gender: M grade: B+ mark: 80\n",
            "ID: 3 name: CCC age: 20 gender: F grade: C+ mark: 45\n",
            "ID: 4 name: DDD age: 21 gender: M grade: A+ mark: 90\n",
            "ID: 5 name: EEE age: 22 gender: M grade: D+ mark: 95\n"
          ]
        }
      ]
    },
    {
      "cell_type": "code",
      "source": [
        "cursor.execute(\"delete from students where id = 5\")"
      ],
      "metadata": {
        "colab": {
          "base_uri": "https://localhost:8080/"
        },
        "id": "3F3kM8zRO3Eo",
        "outputId": "8a1d1fe3-4808-4131-a0ab-14d5e7a6f8de"
      },
      "execution_count": null,
      "outputs": [
        {
          "output_type": "execute_result",
          "data": {
            "text/plain": [
              "<sqlite3.Cursor at 0x7f3995444fc0>"
            ]
          },
          "metadata": {},
          "execution_count": 116
        }
      ]
    },
    {
      "cell_type": "code",
      "source": [
        "cursor.execute(\"select * from students\")\n",
        "rows = cursor.fetchall()\n",
        "for row in rows:\n",
        "  print(\"ID:\",row[0],\"name:\",row[1],\"age:\",row[2],\"gender:\",row[3],\"grade:\",row[4],\"mark:\",row[5])"
      ],
      "metadata": {
        "colab": {
          "base_uri": "https://localhost:8080/"
        },
        "id": "HKKi1bJAQyp5",
        "outputId": "5337a156-6cb1-4c7b-ec12-b54405e52ef2"
      },
      "execution_count": null,
      "outputs": [
        {
          "output_type": "stream",
          "name": "stdout",
          "text": [
            "ID: 1 name: AAA age: 18 gender: F grade: A+ mark: 70\n",
            "ID: 2 name: BBB age: 20 gender: M grade: B+ mark: 80\n",
            "ID: 3 name: CCC age: 20 gender: F grade: C+ mark: 45\n",
            "ID: 4 name: DDD age: 21 gender: M grade: A+ mark: 90\n"
          ]
        }
      ]
    }
  ]
}