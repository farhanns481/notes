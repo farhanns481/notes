{
  "nbformat": 4,
  "nbformat_minor": 0,
  "metadata": {
    "colab": {
      "provenance": [],
      "authorship_tag": "ABX9TyNImbX0tmIejWqw262s599U",
      "include_colab_link": true
    },
    "kernelspec": {
      "name": "python3",
      "display_name": "Python 3"
    },
    "language_info": {
      "name": "python"
    }
  },
  "cells": [
    {
      "cell_type": "markdown",
      "metadata": {
        "id": "view-in-github",
        "colab_type": "text"
      },
      "source": [
        "<a href=\"https://colab.research.google.com/github/farhanns481/notes/blob/main/Iterative_Statements.ipynb\" target=\"_parent\"><img src=\"https://colab.research.google.com/assets/colab-badge.svg\" alt=\"Open In Colab\"/></a>"
      ]
    },
    {
      "cell_type": "code",
      "execution_count": null,
      "metadata": {
        "colab": {
          "base_uri": "https://localhost:8080/"
        },
        "id": "JDsQDMvPjGtE",
        "outputId": "574a2225-24bc-4326-9a17-158beca082b5"
      },
      "outputs": [
        {
          "output_type": "stream",
          "name": "stdout",
          "text": [
            "0\n",
            "1\n",
            "2\n",
            "3\n",
            "4\n",
            "5\n",
            "6\n",
            "7\n",
            "8\n",
            "9\n"
          ]
        }
      ],
      "source": [
        "# Iterative Statement\n",
        "\n",
        "for i in range(10):\n",
        "  print(i)"
      ]
    },
    {
      "cell_type": "code",
      "source": [
        "for num in range(100,140,2):\n",
        "    print(num)"
      ],
      "metadata": {
        "colab": {
          "base_uri": "https://localhost:8080/"
        },
        "id": "hWPQpDGwlVAm",
        "outputId": "a2b7ba41-8ec9-4353-92a3-7a61b0798cc1"
      },
      "execution_count": null,
      "outputs": [
        {
          "output_type": "stream",
          "name": "stdout",
          "text": [
            "100\n",
            "102\n",
            "104\n",
            "106\n",
            "108\n",
            "110\n",
            "112\n",
            "114\n",
            "116\n",
            "118\n",
            "120\n",
            "122\n",
            "124\n",
            "126\n",
            "128\n",
            "130\n",
            "132\n",
            "134\n",
            "136\n",
            "138\n"
          ]
        }
      ]
    },
    {
      "cell_type": "code",
      "source": [
        "#string\n",
        "\n",
        "word = \"Remote Internship\"\n",
        "\n",
        "for char in word:\n",
        "  print(char)"
      ],
      "metadata": {
        "colab": {
          "base_uri": "https://localhost:8080/"
        },
        "id": "LxVfEUVWl53Q",
        "outputId": "09dbabb8-f489-4991-ac62-0c5f11a3f0c7"
      },
      "execution_count": null,
      "outputs": [
        {
          "output_type": "stream",
          "name": "stdout",
          "text": [
            "R\n",
            "e\n",
            "m\n",
            "o\n",
            "t\n",
            "e\n",
            " \n",
            "I\n",
            "n\n",
            "t\n",
            "e\n",
            "r\n",
            "n\n",
            "s\n",
            "h\n",
            "i\n",
            "p\n"
          ]
        }
      ]
    },
    {
      "cell_type": "code",
      "source": [
        "#list\n",
        "\n",
        "my_list = ['mon','tue','wed','thur','fri']\n",
        "for item in my_list:\n",
        "  print(item)"
      ],
      "metadata": {
        "colab": {
          "base_uri": "https://localhost:8080/"
        },
        "id": "rdG0pTr7mUn9",
        "outputId": "465e9541-7ddd-4c2a-e4b0-e11b2cfe5b9c"
      },
      "execution_count": null,
      "outputs": [
        {
          "output_type": "stream",
          "name": "stdout",
          "text": [
            "mon\n",
            "tue\n",
            "wed\n",
            "thur\n",
            "fri\n"
          ]
        }
      ]
    },
    {
      "cell_type": "code",
      "source": [
        "for i in range(len(my_list)):\n",
        "  print(my_list[i])"
      ],
      "metadata": {
        "colab": {
          "base_uri": "https://localhost:8080/"
        },
        "id": "nJJ0qZt5m1iF",
        "outputId": "9b81fe7d-35df-4006-9e31-30b17592605d"
      },
      "execution_count": null,
      "outputs": [
        {
          "output_type": "stream",
          "name": "stdout",
          "text": [
            "mon\n",
            "tue\n",
            "wed\n",
            "thur\n",
            "fri\n"
          ]
        }
      ]
    },
    {
      "cell_type": "code",
      "source": [
        "my_list = ['mon','tue','wed','thur','fri']\n",
        "for item in my_list:\n",
        "  if item =='tue':\n",
        "    print(\"item found\")\n",
        "  else:\n",
        "    print(item)"
      ],
      "metadata": {
        "colab": {
          "base_uri": "https://localhost:8080/"
        },
        "id": "ooQ3V9JcnHIS",
        "outputId": "53cc54de-9274-4453-8daa-2e5c4abeedac"
      },
      "execution_count": null,
      "outputs": [
        {
          "output_type": "stream",
          "name": "stdout",
          "text": [
            "mon\n",
            "item found\n",
            "wed\n",
            "thur\n",
            "fri\n"
          ]
        }
      ]
    },
    {
      "cell_type": "code",
      "source": [
        "my_dict = {\n",
        "    'name':\"Manoj\",\n",
        "    'age':22,\n",
        "    'course':'DSA',\n",
        "    'from':'tvm',\n",
        "    'food':'biriyani',\n",
        "    'game':'football',\n",
        "    'place':'goa'\n",
        "}\n",
        "\n",
        "my_dict.keys()"
      ],
      "metadata": {
        "colab": {
          "base_uri": "https://localhost:8080/"
        },
        "id": "ykofYCMUpwRu",
        "outputId": "e5d82908-0178-4c1c-8984-41a24c8b03b7"
      },
      "execution_count": null,
      "outputs": [
        {
          "output_type": "execute_result",
          "data": {
            "text/plain": [
              "dict_keys(['name', 'age', 'course', 'from', 'food', 'game', 'place'])"
            ]
          },
          "metadata": {},
          "execution_count": 13
        }
      ]
    },
    {
      "cell_type": "code",
      "source": [
        "my_dict.values()"
      ],
      "metadata": {
        "colab": {
          "base_uri": "https://localhost:8080/"
        },
        "id": "jkCzNwqsr9D1",
        "outputId": "61b861d8-1c70-40e2-a3ab-3d694caa5f59"
      },
      "execution_count": null,
      "outputs": [
        {
          "output_type": "execute_result",
          "data": {
            "text/plain": [
              "dict_values(['Manoj', 22, 'DSA', 'tvm', 'biriyani', 'football', 'goa'])"
            ]
          },
          "metadata": {},
          "execution_count": 15
        }
      ]
    },
    {
      "cell_type": "code",
      "source": [
        "my_dict.items()"
      ],
      "metadata": {
        "colab": {
          "base_uri": "https://localhost:8080/"
        },
        "id": "MB9MqnLQsDg1",
        "outputId": "fcc7b062-33b6-400b-ae97-90b2471a7224"
      },
      "execution_count": null,
      "outputs": [
        {
          "output_type": "execute_result",
          "data": {
            "text/plain": [
              "dict_items([('name', 'Manoj'), ('age', 22), ('course', 'DSA'), ('from', 'tvm'), ('food', 'biriyani'), ('game', 'football'), ('place', 'goa')])"
            ]
          },
          "metadata": {},
          "execution_count": 16
        }
      ]
    },
    {
      "cell_type": "code",
      "source": [
        "for k,v in my_dict.items():\n",
        "  print(f\"My {k} is {v}\")"
      ],
      "metadata": {
        "colab": {
          "base_uri": "https://localhost:8080/"
        },
        "id": "XI5eBnTvsIiG",
        "outputId": "281583ed-c5fb-42f1-87a6-52be536260a3"
      },
      "execution_count": null,
      "outputs": [
        {
          "output_type": "stream",
          "name": "stdout",
          "text": [
            "My name is Manoj\n",
            "My age is 22\n",
            "My course is DSA\n",
            "My from is tvm\n",
            "My food is biriyani\n",
            "My game is football\n",
            "My place is goa\n"
          ]
        }
      ]
    },
    {
      "cell_type": "code",
      "source": [
        "my_grocery = {'tomato':22,'onion':33,'brinjal':25,'apple':55,'orange':45,'strawberry':77,'mango':88}\n",
        "print(my_grocery)\n",
        "my_budget = 200\n",
        "my_list = []\n",
        "total = 0\n",
        "for item,price in my_grocery.items():\n",
        "  if total+price < my_budget:\n",
        "    my_list.append(item)\n",
        "    total=total+price\n",
        "print(my_list)\n",
        "print(total)\n",
        "\n",
        "\n",
        "\n"
      ],
      "metadata": {
        "colab": {
          "base_uri": "https://localhost:8080/"
        },
        "id": "Q8Ow-XI4sgDb",
        "outputId": "023ab17a-d1af-4e08-d747-ff61bef8ebb2"
      },
      "execution_count": null,
      "outputs": [
        {
          "output_type": "stream",
          "name": "stdout",
          "text": [
            "{'tomato': 22, 'onion': 33, 'brinjal': 25, 'apple': 55, 'orange': 45, 'strawberry': 77, 'mango': 88}\n",
            "['tomato', 'onion', 'brinjal', 'apple', 'orange']\n",
            "180\n"
          ]
        }
      ]
    },
    {
      "cell_type": "code",
      "source": [
        "for n in range(1,100):\n",
        "  if n%3==0 and n%5==0:\n",
        "   print(n)"
      ],
      "metadata": {
        "colab": {
          "base_uri": "https://localhost:8080/"
        },
        "id": "kI0YEMZwto-B",
        "outputId": "738030d9-35e4-4c8a-ebf9-0ce4ab1cc23d"
      },
      "execution_count": null,
      "outputs": [
        {
          "output_type": "stream",
          "name": "stdout",
          "text": [
            "15\n",
            "30\n",
            "45\n",
            "60\n",
            "75\n",
            "90\n"
          ]
        }
      ]
    },
    {
      "cell_type": "code",
      "source": [
        "A = 1\n",
        "while A <10:\n",
        "  print(A)\n",
        "  A= A+2\n",
        "else:\n",
        "  print(\"yor crossed the limit\")"
      ],
      "metadata": {
        "colab": {
          "base_uri": "https://localhost:8080/"
        },
        "id": "z5xxB69CBZcK",
        "outputId": "e58a764e-0ce1-471b-8f26-9ab393d0c761"
      },
      "execution_count": null,
      "outputs": [
        {
          "output_type": "stream",
          "name": "stdout",
          "text": [
            "1\n",
            "3\n",
            "5\n",
            "7\n",
            "9\n",
            "yor crossed the limit\n"
          ]
        }
      ]
    },
    {
      "cell_type": "code",
      "source": [
        "A = 100\n",
        "while A>0:\n",
        "  print(\"u can buy\")\n",
        "  A = A-50\n",
        "else:\n",
        "  print(\"u cannot buy\")"
      ],
      "metadata": {
        "colab": {
          "base_uri": "https://localhost:8080/"
        },
        "id": "24AmBD08B9E1",
        "outputId": "f58a56cc-b458-4639-cee9-242f66d37182"
      },
      "execution_count": null,
      "outputs": [
        {
          "output_type": "stream",
          "name": "stdout",
          "text": [
            "u can buy\n",
            "u can buy\n",
            "u cannot buy\n"
          ]
        }
      ]
    },
    {
      "cell_type": "code",
      "source": [
        "n = 10\n",
        "user=int(input(\"guess my number\"))\n",
        "while n != user:\n",
        "  print(\"wrong\")\n",
        "  user=int(input(\"guess my number\"))\n",
        "else:\n",
        "  print(\"right\")\n"
      ],
      "metadata": {
        "colab": {
          "base_uri": "https://localhost:8080/"
        },
        "id": "p32dbHDeD0KV",
        "outputId": "58c5bdc1-08e6-4840-eeca-4902e46d5f68"
      },
      "execution_count": null,
      "outputs": [
        {
          "output_type": "stream",
          "name": "stdout",
          "text": [
            "guess my number33\n",
            "wrong\n",
            "guess my number10\n",
            "right\n"
          ]
        }
      ]
    },
    {
      "cell_type": "code",
      "source": [
        "import random\n",
        "\n",
        "import random\n",
        "secret_number=random.randint(1,10)\n",
        "num=int(input(\"guess the number\"))\n",
        "while num!=secret_number:\n",
        "  num=int(input(\"try again guess again\"))\n",
        "else:\n",
        "  print(\"hooraah\")\n"
      ],
      "metadata": {
        "colab": {
          "base_uri": "https://localhost:8080/"
        },
        "id": "fT1aIrAxJi90",
        "outputId": "3cba73b8-1bcf-465a-a60e-4e123cae3e4e"
      },
      "execution_count": null,
      "outputs": [
        {
          "output_type": "stream",
          "name": "stdout",
          "text": [
            "guess the number2\n",
            "try again guess again3\n",
            "try again guess again4\n",
            "try again guess again5\n",
            "try again guess again6\n",
            "try again guess again7\n",
            "try again guess again8\n",
            "hooraah\n"
          ]
        }
      ]
    },
    {
      "cell_type": "code",
      "source": [
        "password = '123'\n",
        "attempts = 3\n",
        "while attempts >0:\n",
        "  userpass = input(\"enter password\")\n",
        "  if userpass == password:\n",
        "    print(\"login success\")\n",
        "    break\n",
        "  else:\n",
        "    attempts -=1\n",
        "    print(f\"{attempts} attempts left\")\n",
        "else:\n",
        "    print(\"login failed\")\n",
        "\n",
        "\n"
      ],
      "metadata": {
        "colab": {
          "base_uri": "https://localhost:8080/"
        },
        "id": "MHcR8ec0L548",
        "outputId": "1fdcefdb-c1f0-4e36-da57-3afd4299b5bb"
      },
      "execution_count": null,
      "outputs": [
        {
          "output_type": "stream",
          "name": "stdout",
          "text": [
            "enter password55\n",
            "2 attempts left\n",
            "enter password77\n",
            "1 attempts left\n",
            "enter password123\n",
            "login success\n"
          ]
        }
      ]
    },
    {
      "cell_type": "code",
      "source": [
        "cinema = {'Asuran':8,'RaOne':9,'Vip':10,'Sura':5,'Kaththi':7}\n",
        "print(cinema)\n",
        "\n",
        "cinema[\"RaOne\"]=9\n",
        "print(cinema)\n",
        "\n",
        "cinema[\"Dheera\"]=9\n",
        "cinema[\"Dhrona\"]=8\n",
        "print(cinema)\n",
        "\n",
        "highest_rating=0\n",
        "highest_movie=''\n",
        "for k,v in cinema.items():\n",
        "  if v > highest_rating:\n",
        "    highest_rating=v\n",
        "    highest_movie=k\n",
        "print(f'{highest_movie} is the highest rated movie with a rating of {highest_rating}')\n",
        "\n",
        "filtered_list={}\n",
        "for k,v in cinema.items():\n",
        "  if v>5:\n",
        "    filtered_list[k]=v\n",
        "print(filtered_list)"
      ],
      "metadata": {
        "id": "gGl-syXaUleD",
        "colab": {
          "base_uri": "https://localhost:8080/"
        },
        "outputId": "af993683-7bf3-4503-a34b-93a16ba81bc3"
      },
      "execution_count": null,
      "outputs": [
        {
          "output_type": "stream",
          "name": "stdout",
          "text": [
            "{'Asuran': 8, 'RaOne': 9, 'Vip': 10, 'Sura': 5, 'Kaththi': 7}\n",
            "{'Asuran': 8, 'RaOne': 9, 'Vip': 10, 'Sura': 5, 'Kaththi': 7}\n",
            "{'Asuran': 8, 'RaOne': 9, 'Vip': 10, 'Sura': 5, 'Kaththi': 7, 'Dheera': 9, 'Dhrona': 8}\n",
            "Vip is the highest rated movie with a rating of 10\n",
            "{'Asuran': 8, 'RaOne': 9, 'Vip': 10, 'Kaththi': 7, 'Dheera': 9, 'Dhrona': 8}\n"
          ]
        }
      ]
    },
    {
      "cell_type": "code",
      "source": [],
      "metadata": {
        "id": "YCiGDx9teiDg"
      },
      "execution_count": null,
      "outputs": []
    }
  ]
}