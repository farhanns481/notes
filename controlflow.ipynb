{
  "nbformat": 4,
  "nbformat_minor": 0,
  "metadata": {
    "colab": {
      "provenance": [],
      "authorship_tag": "ABX9TyOAHZHqUaiWwMTliS3yAhh8",
      "include_colab_link": true
    },
    "kernelspec": {
      "name": "python3",
      "display_name": "Python 3"
    },
    "language_info": {
      "name": "python"
    }
  },
  "cells": [
    {
      "cell_type": "markdown",
      "metadata": {
        "id": "view-in-github",
        "colab_type": "text"
      },
      "source": [
        "<a href=\"https://colab.research.google.com/github/farhanns481/notes/blob/main/controlflow.ipynb\" target=\"_parent\"><img src=\"https://colab.research.google.com/assets/colab-badge.svg\" alt=\"Open In Colab\"/></a>"
      ]
    },
    {
      "cell_type": "markdown",
      "source": [
        "IF"
      ],
      "metadata": {
        "id": "gt7OsbZRVF-P"
      }
    },
    {
      "cell_type": "code",
      "execution_count": null,
      "metadata": {
        "colab": {
          "base_uri": "https://localhost:8080/"
        },
        "id": "9NhtkP_SSjUc",
        "outputId": "05e70659-ef05-4e18-ba0a-bd70708f785b"
      },
      "outputs": [
        {
          "output_type": "stream",
          "name": "stdout",
          "text": [
            "age19\n",
            "eligible to vote\n"
          ]
        }
      ],
      "source": [
        "x = int(input('age'))\n",
        "if x >= 18 :\n",
        "  print (\"eligible to vote\")"
      ]
    },
    {
      "cell_type": "code",
      "source": [
        "x = int(input('age'))\n",
        "if x >= 18 :\n",
        "  print (\"eligible to vote\")\n",
        "else :\n",
        "  print(\"not eligible to vote\")"
      ],
      "metadata": {
        "colab": {
          "base_uri": "https://localhost:8080/"
        },
        "id": "Jsdkb5euUYeA",
        "outputId": "8112b821-d8f9-439c-9416-56941a912b38"
      },
      "execution_count": null,
      "outputs": [
        {
          "output_type": "stream",
          "name": "stdout",
          "text": [
            "age15\n",
            "not eligible to vote\n"
          ]
        }
      ]
    },
    {
      "cell_type": "markdown",
      "source": [
        "IF-ELIF"
      ],
      "metadata": {
        "id": "7z1TX8XhVI6F"
      }
    },
    {
      "cell_type": "code",
      "source": [
        "x = int(input(\"enter a number\"))\n",
        "if x > 5 :\n",
        "  print(\"x is greater than 5\")\n",
        "elif x == 5 :\n",
        "  print(\"x is exactly 5\")\n",
        "elif x < 5 :\n",
        "  print(\"x is less than 5\")"
      ],
      "metadata": {
        "colab": {
          "base_uri": "https://localhost:8080/"
        },
        "id": "QtJp_AT_VNo5",
        "outputId": "7b9e3260-5f25-4293-f88a-10d68737f8ff"
      },
      "execution_count": null,
      "outputs": [
        {
          "output_type": "stream",
          "name": "stdout",
          "text": [
            "enter a number3\n",
            "x is less than 5\n"
          ]
        }
      ]
    },
    {
      "cell_type": "code",
      "source": [
        "x = int(input(\"enter a age\"))\n",
        "if x <= 12:\n",
        "  print(\"child\")\n",
        "elif x >= 13 and x<=19:\n",
        "  print(\"teen\")\n",
        "elif x>=20 and x <= 59:\n",
        "  print(\"adult\")\n",
        "elif x > 60:\n",
        "  print(\"senior citizen\")"
      ],
      "metadata": {
        "colab": {
          "base_uri": "https://localhost:8080/"
        },
        "id": "CirOG4XQWqys",
        "outputId": "fe176075-9238-42c8-da96-f3dd6f61708d"
      },
      "execution_count": null,
      "outputs": [
        {
          "output_type": "stream",
          "name": "stdout",
          "text": [
            "enter a age62\n",
            "senior citizen\n"
          ]
        }
      ]
    },
    {
      "cell_type": "markdown",
      "source": [
        "#Write code to check if ur name is lengthy (more than 10 characters)"
      ],
      "metadata": {
        "id": "S-RLoJIAaG7u"
      }
    },
    {
      "cell_type": "code",
      "source": [
        "x = input(\"enter your name\")\n",
        "if len(x) > 10:\n",
        "  print(\"your name is lengthy\")\n",
        "else:\n",
        "  print(\"your name is normal\")"
      ],
      "metadata": {
        "colab": {
          "base_uri": "https://localhost:8080/"
        },
        "id": "73sxd9huaFDh",
        "outputId": "4a2c21b1-f3de-4ae0-efc5-b1a4661eecac"
      },
      "execution_count": null,
      "outputs": [
        {
          "output_type": "stream",
          "name": "stdout",
          "text": [
            "enter your namemuhammed riyan\n",
            "your name is lengthy\n"
          ]
        }
      ]
    },
    {
      "cell_type": "markdown",
      "source": [
        "#write code to convert railway time to AM-PM format"
      ],
      "metadata": {
        "id": "PIWOZVJIcFlh"
      }
    },
    {
      "cell_type": "code",
      "source": [
        "x = int(input(\"enter the HH \"))\n",
        "y = int(input(\"enter the MM \"))\n",
        "print(x,':',y)\n",
        "if x>12:\n",
        "  z=x-12\n",
        "  print(z,':',y,'pm')\n",
        "else:\n",
        "  print(x,':',y,'am')"
      ],
      "metadata": {
        "colab": {
          "base_uri": "https://localhost:8080/"
        },
        "id": "6ZZ20jAHbGrx",
        "outputId": "b406aa37-4740-49b4-892f-4bd8c8d75842"
      },
      "execution_count": null,
      "outputs": [
        {
          "output_type": "stream",
          "name": "stdout",
          "text": [
            "enter the HH 22\n",
            "enter the MM 13\n",
            "22 : 13\n",
            "10 : 13 pm\n"
          ]
        }
      ]
    },
    {
      "cell_type": "markdown",
      "source": [
        "#Write code to print a given string is palindrome or not"
      ],
      "metadata": {
        "id": "6suWvGvAgRZN"
      }
    },
    {
      "cell_type": "code",
      "source": [
        "x = input(\"enter ur string: \")\n",
        "y=x[::-1]\n",
        "if y==x:\n",
        "  print(\"given string is palindrome\")\n",
        "else:\n",
        "  print(\"given string is not palindrome\")"
      ],
      "metadata": {
        "colab": {
          "base_uri": "https://localhost:8080/"
        },
        "id": "I4ZUgARHgaqI",
        "outputId": "420579a2-2a0c-4a33-b1ce-1209904f37e1"
      },
      "execution_count": null,
      "outputs": [
        {
          "output_type": "stream",
          "name": "stdout",
          "text": [
            "enter ur string: malayalam\n",
            "given string is palindrome\n"
          ]
        }
      ]
    },
    {
      "cell_type": "code",
      "source": [
        "#write code to check your favorite color is primarycolor(R/G/B) or not\n",
        "\n",
        "x = input(\"enter a color \")\n",
        "if x ==\"red\" or x == \"green\" or x==\"blue\" :\n",
        "  print(\"the color is primary\")\n",
        "else :\n",
        "  print(\"not primary\")"
      ],
      "metadata": {
        "colab": {
          "base_uri": "https://localhost:8080/"
        },
        "id": "DxLK8BIJkDNy",
        "outputId": "b03d43ed-a911-45f8-9b38-d764fe6640e7"
      },
      "execution_count": null,
      "outputs": [
        {
          "output_type": "stream",
          "name": "stdout",
          "text": [
            "enter a color green\n",
            "the color is primary\n"
          ]
        }
      ]
    },
    {
      "cell_type": "code",
      "source": [
        "# write code to check whether a product has expired(6 months shelf life) or not based on MFD provided by the user in dd/mm/yyyy format"
      ],
      "metadata": {
        "id": "XDtd2AJ9mdfG"
      },
      "execution_count": null,
      "outputs": []
    },
    {
      "cell_type": "code",
      "source": [
        "# write code to print the greatest among three numbers given by user."
      ],
      "metadata": {
        "id": "2Gkn0hFIrSkq"
      },
      "execution_count": null,
      "outputs": []
    },
    {
      "cell_type": "code",
      "source": [
        "# write code to print a given day is holiday (saturday & sunday) or not (all other days)"
      ],
      "metadata": {
        "id": "muh1wmFIrfZP"
      },
      "execution_count": null,
      "outputs": []
    },
    {
      "cell_type": "code",
      "source": [
        "# write code to convert date format from dd/mm/yyyy to  mm-dd-yyyy / dd-mm-yyyy / yyyy-dd-mm"
      ],
      "metadata": {
        "id": "bogqSeCeE3nl"
      },
      "execution_count": null,
      "outputs": []
    }
  ]
}